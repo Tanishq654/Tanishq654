{
  "nbformat": 4,
  "nbformat_minor": 0,
  "metadata": {
    "colab": {
      "provenance": [],
      "authorship_tag": "ABX9TyNm6ea2xct7mTL9OodOzyNS",
      "include_colab_link": true
    },
    "kernelspec": {
      "name": "python3",
      "display_name": "Python 3"
    },
    "language_info": {
      "name": "python"
    }
  },
  "cells": [
    {
      "cell_type": "markdown",
      "metadata": {
        "id": "view-in-github",
        "colab_type": "text"
      },
      "source": [
        "<a href=\"https://colab.research.google.com/github/Tanishq654/Tanishq654/blob/main/spam%20comment%20detection.ipynb\" target=\"_parent\"><img src=\"https://colab.research.google.com/assets/colab-badge.svg\" alt=\"Open In Colab\"/></a>"
      ]
    },
    {
      "cell_type": "code",
      "execution_count": 1,
      "metadata": {
        "id": "dPvSjNTY6sAo"
      },
      "outputs": [],
      "source": [
        "import pandas as pd\n",
        "import numpy as np\n",
        "from sklearn.feature_extraction.text import CountVectorizer\n",
        "from sklearn.model_selection import train_test_split\n",
        "from sklearn.naive_bayes import BernoulliNB\n",
        "\n",
        "data = pd.read_csv(\"/content/Youtube01-Psy.csv\")"
      ]
    },
    {
      "cell_type": "code",
      "source": [
        "data = data[[\"CONTENT\", \"CLASS\"]]\n",
        "print(data.sample(5))"
      ],
      "metadata": {
        "colab": {
          "base_uri": "https://localhost:8080/"
        },
        "id": "GCCgRsuc64SJ",
        "outputId": "3b3b2ddd-433d-4b44-d7c6-78221a45b065"
      },
      "execution_count": 2,
      "outputs": [
        {
          "output_type": "stream",
          "name": "stdout",
          "text": [
            "                                               CONTENT  CLASS\n",
            "258                     C'mon 3 billion views!!!!!!!!﻿      0\n",
            "87   Wow. Comments section on this still active. No...      0\n",
            "19   We are an EDM apparel company dedicated to bri...      1\n",
            "311                   Please check out my vidios guys﻿      1\n",
            "289             YOUTUBE MONEY !!!!!!!!!!!!!!!!!!!!!!!﻿      0\n"
          ]
        }
      ]
    },
    {
      "cell_type": "code",
      "source": [
        "data[\"CLASS\"] = data[\"CLASS\"].map({0: \"Not Spam\",\n",
        "                                   1: \"Spam Comment\"})\n",
        "print(data.sample(5))"
      ],
      "metadata": {
        "colab": {
          "base_uri": "https://localhost:8080/"
        },
        "id": "l1_mZKHB65JS",
        "outputId": "32358ce6-9016-4f59-c053-97290d3ca60b"
      },
      "execution_count": 3,
      "outputs": [
        {
          "output_type": "stream",
          "name": "stdout",
          "text": [
            "                                               CONTENT         CLASS\n",
            "103  Screw this Chinese crap i dont even understand...      Not Spam\n",
            "216  Lol...I dunno how this joke gets a lot of like...      Not Spam\n",
            "60             Im just to check how much views it has﻿      Not Spam\n",
            "157              Follow me on Twitter @mscalifornia95﻿  Spam Comment\n",
            "160  CHECK MY CHANNEL FOR MY NEW SONG 'STATIC'!! YO...  Spam Comment\n"
          ]
        }
      ]
    },
    {
      "cell_type": "code",
      "source": [
        "x = np.array(data[\"CONTENT\"])\n",
        "y = np.array(data[\"CLASS\"])\n",
        "\n",
        "cv = CountVectorizer()\n",
        "x = cv.fit_transform(x)\n",
        "xtrain, xtest, ytrain, ytest = train_test_split(x, y,\n",
        "                                                test_size=0.2,\n",
        "                                                random_state=42)\n",
        "\n",
        "model = BernoulliNB()\n",
        "model.fit(xtrain, ytrain)\n",
        "print(model.score(xtest, ytest))"
      ],
      "metadata": {
        "colab": {
          "base_uri": "https://localhost:8080/"
        },
        "id": "-pxxKkZs7Dkx",
        "outputId": "8884148a-8ae3-43d0-d35f-18fe16bf968c"
      },
      "execution_count": 4,
      "outputs": [
        {
          "output_type": "stream",
          "name": "stdout",
          "text": [
            "0.9857142857142858\n"
          ]
        }
      ]
    },
    {
      "cell_type": "code",
      "source": [
        "sample = \"Check this out: https://thecleverprogrammer.com/\"\n",
        "data = cv.transform([sample]).toarray()\n",
        "print(model.predict(data))"
      ],
      "metadata": {
        "colab": {
          "base_uri": "https://localhost:8080/"
        },
        "id": "rQswxAqU7Hxk",
        "outputId": "7aa93ede-fb9b-4ba8-8d74-8b7b931ed956"
      },
      "execution_count": 5,
      "outputs": [
        {
          "output_type": "stream",
          "name": "stdout",
          "text": [
            "['Spam Comment']\n"
          ]
        }
      ]
    },
    {
      "cell_type": "code",
      "source": [
        "sample = \"Lack of information!\"\n",
        "data = cv.transform([sample]).toarray()\n",
        "print(model.predict(data))"
      ],
      "metadata": {
        "colab": {
          "base_uri": "https://localhost:8080/"
        },
        "id": "JLGCR5iX7L4F",
        "outputId": "c18df608-b2a5-44f6-f2df-887c536aec12"
      },
      "execution_count": 6,
      "outputs": [
        {
          "output_type": "stream",
          "name": "stdout",
          "text": [
            "['Not Spam']\n"
          ]
        }
      ]
    }
  ]
}