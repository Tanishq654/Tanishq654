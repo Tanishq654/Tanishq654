{
  "nbformat": 4,
  "nbformat_minor": 0,
  "metadata": {
    "colab": {
      "provenance": [],
      "authorship_tag": "ABX9TyNWvcpgnsTdUMHRf5XVqM1v",
      "include_colab_link": true
    },
    "kernelspec": {
      "name": "python3",
      "display_name": "Python 3"
    },
    "language_info": {
      "name": "python"
    }
  },
  "cells": [
    {
      "cell_type": "markdown",
      "metadata": {
        "id": "view-in-github",
        "colab_type": "text"
      },
      "source": [
        "<a href=\"https://colab.research.google.com/github/Tanishq654/Tanishq654/blob/main/music%20recommendation%20system.ipynb\" target=\"_parent\"><img src=\"https://colab.research.google.com/assets/colab-badge.svg\" alt=\"Open In Colab\"/></a>"
      ]
    },
    {
      "cell_type": "code",
      "source": [
        "import requests\n",
        "import base64\n",
        "\n",
        "# Replace with your own Client ID and Client Secret\n",
        "CLIENT_ID = 'dd391fd7f79b46eb86d5b876c794a1a0'\n",
        "CLIENT_SECRET = '8e5f649973d74ab4898426d3d10d8aa1'\n",
        "\n",
        "# Base64 encode the client ID and client secret\n",
        "client_credentials = f\"{CLIENT_ID}:{CLIENT_SECRET}\"\n",
        "client_credentials_base64 = base64.b64encode(client_credentials.encode())\n",
        "\n",
        "# Request the access token\n",
        "token_url = 'https://accounts.spotify.com/api/token'\n",
        "headers = {\n",
        "    'Authorization': f'Basic {client_credentials_base64.decode()}'\n",
        "}\n",
        "data = {\n",
        "    'grant_type': 'client_credentials'\n",
        "}\n",
        "response = requests.post(token_url, data=data, headers=headers)\n",
        "\n",
        "if response.status_code == 200:\n",
        "    access_token = response.json()['access_token']\n",
        "    print(\"Access token obt succesfully\")\n",
        "else:\n",
        "          print(\"erroe obtaing token\")\n",
        "          exit()"
      ],
      "metadata": {
        "colab": {
          "base_uri": "https://localhost:8080/"
        },
        "id": "LhFSsRFhJDVs",
        "outputId": "f51f59ed-4a4d-49ee-a1a8-2a7b05da7cae"
      },
      "execution_count": 1,
      "outputs": [
        {
          "output_type": "stream",
          "name": "stdout",
          "text": [
            "Access token obt succesfully\n"
          ]
        }
      ]
    },
    {
      "cell_type": "code",
      "source": [
        "!pip install spotipy"
      ],
      "metadata": {
        "colab": {
          "base_uri": "https://localhost:8080/"
        },
        "id": "qK_NcBGGNYXV",
        "outputId": "12ff9de1-279f-4353-b50f-e6e433a3fae3"
      },
      "execution_count": 3,
      "outputs": [
        {
          "output_type": "stream",
          "name": "stdout",
          "text": [
            "Collecting spotipy\n",
            "  Downloading spotipy-2.23.0-py3-none-any.whl (29 kB)\n",
            "Collecting redis>=3.5.3 (from spotipy)\n",
            "  Downloading redis-5.0.1-py3-none-any.whl (250 kB)\n",
            "\u001b[2K     \u001b[90m━━━━━━━━━━━━━━━━━━━━━━━━━━━━━━━━━━━━━━━━\u001b[0m \u001b[32m250.3/250.3 kB\u001b[0m \u001b[31m4.5 MB/s\u001b[0m eta \u001b[36m0:00:00\u001b[0m\n",
            "\u001b[?25hRequirement already satisfied: requests>=2.25.0 in /usr/local/lib/python3.10/dist-packages (from spotipy) (2.31.0)\n",
            "Requirement already satisfied: six>=1.15.0 in /usr/local/lib/python3.10/dist-packages (from spotipy) (1.16.0)\n",
            "Requirement already satisfied: urllib3>=1.26.0 in /usr/local/lib/python3.10/dist-packages (from spotipy) (2.0.7)\n",
            "Requirement already satisfied: async-timeout>=4.0.2 in /usr/local/lib/python3.10/dist-packages (from redis>=3.5.3->spotipy) (4.0.3)\n",
            "Requirement already satisfied: charset-normalizer<4,>=2 in /usr/local/lib/python3.10/dist-packages (from requests>=2.25.0->spotipy) (3.3.2)\n",
            "Requirement already satisfied: idna<4,>=2.5 in /usr/local/lib/python3.10/dist-packages (from requests>=2.25.0->spotipy) (3.6)\n",
            "Requirement already satisfied: certifi>=2017.4.17 in /usr/local/lib/python3.10/dist-packages (from requests>=2.25.0->spotipy) (2023.11.17)\n",
            "Installing collected packages: redis, spotipy\n",
            "Successfully installed redis-5.0.1 spotipy-2.23.0\n"
          ]
        }
      ]
    },
    {
      "cell_type": "code",
      "source": [
        "import pandas as pd\n",
        "import spotipy\n",
        "from spotipy.oauth2 import SpotifyOAuth\n",
        "\n",
        "def get_trending_playlist_data(playlist_id, access_token):\n",
        "    # Set up Spotipy with the access token\n",
        "    sp = spotipy.Spotify(auth=access_token)\n",
        "\n",
        "    # Get the tracks from the playlist\n",
        "    playlist_tracks = sp.playlist_tracks(playlist_id, fields='items(track(id, name, artists, album(id, name)))')\n",
        "\n",
        "    # Extract relevant information and store in a list of dictionaries\n",
        "    music_data = []\n",
        "    for track_info in playlist_tracks['items']:\n",
        "        track = track_info['track']\n",
        "        track_name = track['name']\n",
        "        artists = ', '.join([artist['name'] for artist in track['artists']])\n",
        "        album_name = track['album']['name']\n",
        "        album_id = track['album']['id']\n",
        "        track_id = track['id']\n",
        "\n",
        "        # Get audio features for the track\n",
        "        audio_features = sp.audio_features(track_id)[0] if track_id != 'Not available' else None\n",
        "\n",
        "        # Get release date of the album\n",
        "        try:\n",
        "            album_info = sp.album(album_id) if album_id != 'Not available' else None\n",
        "            release_date = album_info['release_date'] if album_info else None\n",
        "        except:\n",
        "            release_date = None\n",
        "\n",
        "        # Get popularity of the track\n",
        "        try:\n",
        "            track_info = sp.track(track_id) if track_id != 'Not available' else None\n",
        "            popularity = track_info['popularity'] if track_info else None\n",
        "        except:\n",
        "            popularity = None\n",
        "\n",
        "        # Add additional track information to the track data\n",
        "        track_data = {\n",
        "            'Track Name': track_name,\n",
        "            'Artists': artists,\n",
        "            'Album Name': album_name,\n",
        "            'Album ID': album_id,\n",
        "            'Track ID': track_id,\n",
        "            'Popularity': popularity,\n",
        "            'Release Date': release_date,\n",
        "            'Duration (ms)': audio_features['duration_ms'] if audio_features else None,\n",
        "            'Explicit': track_info.get('explicit', None),\n",
        "            'External URLs': track_info.get('external_urls', {}).get('spotify', None),\n",
        "            'Danceability': audio_features['danceability'] if audio_features else None,\n",
        "            'Energy': audio_features['energy'] if audio_features else None,\n",
        "            'Key': audio_features['key'] if audio_features else None,\n",
        "            'Loudness': audio_features['loudness'] if audio_features else None,\n",
        "            'Mode': audio_features['mode'] if audio_features else None,\n",
        "            'Speechiness': audio_features['speechiness'] if audio_features else None,\n",
        "            'Acousticness': audio_features['acousticness'] if audio_features else None,\n",
        "            'Instrumentalness': audio_features['instrumentalness'] if audio_features else None,\n",
        "            'Liveness': audio_features['liveness'] if audio_features else None,\n",
        "            'Valence': audio_features['valence'] if audio_features else None,\n",
        "            'tempo': audio_features['key'] if audio_features else None,\n",
        "        }\n",
        "        music_data.append(track_data)\n",
        "    #creating a pada data frame\n",
        "    df=pd.DataFrame(music_data)\n",
        "    return df"
      ],
      "metadata": {
        "id": "rY8q_7i2Jm-5"
      },
      "execution_count": 10,
      "outputs": []
    },
    {
      "cell_type": "code",
      "source": [
        "playlist_id = '37i9dQZF1DX76Wlfdnj7AP'\n",
        "\n",
        "# Call the function to get the music data from the playlist and store it in a DataFrame\n",
        "music_df = get_trending_playlist_data(playlist_id, access_token)\n",
        "\n",
        "# Display the Dataframe\n",
        "print(music_df)"
      ],
      "metadata": {
        "colab": {
          "base_uri": "https://localhost:8080/"
        },
        "id": "LFqi-5n-LLUd",
        "outputId": "f6d1235c-d1a1-4b10-c90a-e8f06a053616"
      },
      "execution_count": 11,
      "outputs": [
        {
          "output_type": "stream",
          "name": "stdout",
          "text": [
            "                          Track Name                       Artists  \\\n",
            "0                              Prada   cassö, RAYE, D-Block Europe   \n",
            "1                           fukumean                         Gunna   \n",
            "2                 IDGAF (feat. Yeat)                   Drake, Yeat   \n",
            "3                    I'm Good (Blue)      David Guetta, Bebe Rexha   \n",
            "4   Vois sur ton chemin - Techno Mix                       BENNETT   \n",
            "..                               ...                           ...   \n",
            "95      Kernkraft 400 (A Better Day)                    Topic, A7S   \n",
            "96                          Remember      Becky Hill, David Guetta   \n",
            "97                     All By Myself  Alok, Sigala, Ellie Goulding   \n",
            "98                       Motley Crew                   Post Malone   \n",
            "99             Rainfall (Praise You)                     Tom Santa   \n",
            "\n",
            "                          Album Name                Album ID  \\\n",
            "0                              Prada  5MU0RmBSpoSxOPYBfcobDc   \n",
            "1                   a Gift & a Curse  5qmZefgh78fN3jsyPPlvuw   \n",
            "2                   For All The Dogs  4czdORdCWP9umpbhFXK2fW   \n",
            "3                    I'm Good (Blue)  7M842DMhYVALrXsw3ty7B3   \n",
            "4   Vois sur ton chemin (Techno Mix)  79Cyc8GRWnLyjdJSMyJ0dB   \n",
            "..                               ...                     ...   \n",
            "95      Kernkraft 400 (A Better Day)  2NIChqkijGw4r4Dqfmg0A3   \n",
            "96                          Remember  6DHfD3rZapWFmEKX1FNNZF   \n",
            "97                     All By Myself  3lAmnw0gNntYuTltwETnSn   \n",
            "98                       Motley Crew  4tokbQaFXRrq8keVGBD9vb   \n",
            "99             Rainfall (Praise You)  4VanY5i4E59Mhz52qznJ95   \n",
            "\n",
            "                  Track ID  Popularity Release Date  Duration (ms)  Explicit  \\\n",
            "0   59NraMJsLaMCVtwXTSia8i          93   2023-08-11         132359      True   \n",
            "1   4rXLjWdF2ZZpXCVTfWcshS          93   2023-06-16         125040      True   \n",
            "2   2YSzYUF3jWqb9YP9VXmpjE          92   2023-10-06         260111      True   \n",
            "3   4uUG5RXrOk84mYEfFvj3cK          91   2022-08-26         175238      True   \n",
            "4   31nfdEooLEq7dn3UMcIeB5          90   2023-08-04         178156     False   \n",
            "..                     ...         ...          ...            ...       ...   \n",
            "95  3kcKlOkQQEPVwxwljbGJ5p          76   2022-06-17         165800     False   \n",
            "96  4laAKIq9ZxBCwf99rauPYb          76   2021-06-18         160766     False   \n",
            "97  5Hp4xFihdOE2dmDzxWcBFb          75   2022-10-07         171778     False   \n",
            "98  40uMIn2zJLAQhNXghRjBed          75   2021-07-09         184213      True   \n",
            "99  1M8t1j3Kv2qp97bdq5q4Vl          75   2022-02-18         166570     False   \n",
            "\n",
            "                                        External URLs  ...  Energy  Key  \\\n",
            "0   https://open.spotify.com/track/59NraMJsLaMCVtw...  ...   0.717    8   \n",
            "1   https://open.spotify.com/track/4rXLjWdF2ZZpXCV...  ...   0.622    1   \n",
            "2   https://open.spotify.com/track/2YSzYUF3jWqb9YP...  ...   0.670    8   \n",
            "3   https://open.spotify.com/track/4uUG5RXrOk84mYE...  ...   0.965    7   \n",
            "4   https://open.spotify.com/track/31nfdEooLEq7dn3...  ...   0.824    2   \n",
            "..                                                ...  ...     ...  ...   \n",
            "95  https://open.spotify.com/track/3kcKlOkQQEPVwxw...  ...   0.727   11   \n",
            "96  https://open.spotify.com/track/4laAKIq9ZxBCwf9...  ...   0.862    8   \n",
            "97  https://open.spotify.com/track/5Hp4xFihdOE2dmD...  ...   0.848    0   \n",
            "98  https://open.spotify.com/track/40uMIn2zJLAQhNX...  ...   0.631    3   \n",
            "99  https://open.spotify.com/track/1M8t1j3Kv2qp97b...  ...   0.862    5   \n",
            "\n",
            "    Loudness  Mode  Speechiness  Acousticness  Instrumentalness  Liveness  \\\n",
            "0     -5.804     1       0.0375       0.00100          0.000002    0.1130   \n",
            "1     -6.747     0       0.0903       0.11900          0.000000    0.2850   \n",
            "2     -8.399     1       0.2710       0.04640          0.000089    0.2050   \n",
            "3     -3.673     0       0.0343       0.00383          0.000007    0.3710   \n",
            "4     -3.394     0       0.0470       0.09080          0.071100    0.1190   \n",
            "..       ...   ...          ...           ...               ...       ...   \n",
            "95    -5.570     0       0.0562       0.18400          0.000020    0.3090   \n",
            "96    -2.903     1       0.0370       0.04100          0.000000    0.0907   \n",
            "97    -4.338     0       0.0346       0.09320          0.000008    0.2410   \n",
            "98    -3.818     0       0.0786       0.09040          0.000004    0.0998   \n",
            "99    -5.464     0       0.0606       0.14000          0.009200    0.2520   \n",
            "\n",
            "    Valence  tempo  \n",
            "0     0.422      8  \n",
            "1     0.220      1  \n",
            "2     0.138      8  \n",
            "3     0.304      7  \n",
            "4     0.371      2  \n",
            "..      ...    ...  \n",
            "95    0.400     11  \n",
            "96    0.354      8  \n",
            "97    0.773      0  \n",
            "98    0.288      3  \n",
            "99    0.509      5  \n",
            "\n",
            "[100 rows x 21 columns]\n"
          ]
        }
      ]
    },
    {
      "cell_type": "code",
      "source": [
        "print(music_df.isnull().sum())"
      ],
      "metadata": {
        "colab": {
          "base_uri": "https://localhost:8080/"
        },
        "id": "f7cahe7XLi6Z",
        "outputId": "6ed2b260-b32f-427c-f46c-490bf46a6730"
      },
      "execution_count": 12,
      "outputs": [
        {
          "output_type": "stream",
          "name": "stdout",
          "text": [
            "Track Name          0\n",
            "Artists             0\n",
            "Album Name          0\n",
            "Album ID            0\n",
            "Track ID            0\n",
            "Popularity          0\n",
            "Release Date        0\n",
            "Duration (ms)       0\n",
            "Explicit            0\n",
            "External URLs       0\n",
            "Danceability        0\n",
            "Energy              0\n",
            "Key                 0\n",
            "Loudness            0\n",
            "Mode                0\n",
            "Speechiness         0\n",
            "Acousticness        0\n",
            "Instrumentalness    0\n",
            "Liveness            0\n",
            "Valence             0\n",
            "tempo               0\n",
            "dtype: int64\n"
          ]
        }
      ]
    },
    {
      "cell_type": "code",
      "source": [
        "# code to built system\n",
        "import pandas as pd\n",
        "import numpy as np\n",
        "from sklearn.model_selection import train_test_split\n",
        "from sklearn.preprocessing import MinMaxScaler\n",
        "from datetime import datetime\n",
        "from sklearn.metrics.pairwise import cosine_similarity\n",
        "\n",
        "data = music_df"
      ],
      "metadata": {
        "id": "gyOW4fdnLo6a"
      },
      "execution_count": 13,
      "outputs": []
    },
    {
      "cell_type": "code",
      "source": [
        "# Function to calculate weighted popularity scores based on release date\n",
        "def calculate_weighted_popularity(release_date):\n",
        "    # Convert the release date to datetime object\n",
        "    release_date = datetime.strptime(release_date, '%Y-%m-%d')\n",
        "\n",
        "    # Calculate the time span between release date and today's date\n",
        "    time_span = datetime.now() - release_date\n",
        "\n",
        "    # Calculate the weighted popularity score based on time span (e.g., more recent releases have higher weight)\n",
        "    weight = 1 / (time_span.days + 1)\n",
        "    return weight"
      ],
      "metadata": {
        "id": "4zLVcancL18T"
      },
      "execution_count": 14,
      "outputs": []
    },
    {
      "cell_type": "code",
      "source": [
        "# Normalize the music features using Min-Max scaling\n",
        "scaler = MinMaxScaler()\n",
        "music_features = music_df[['Danceability', 'Energy', 'Key',\n",
        "                           'Loudness', 'Mode', 'Speechiness', 'Acousticness',\n",
        "                           'Instrumentalness', 'Liveness', 'Valence','tempo']].values\n",
        "music_features_scaled = scaler.fit_transform(music_features)"
      ],
      "metadata": {
        "id": "ypAZSIvZMEKv"
      },
      "execution_count": 17,
      "outputs": []
    },
    {
      "cell_type": "code",
      "source": [
        " #a function to get content-based recommendations based on music features\n",
        "def content_based_recommendations(input_song_name, num_recommendations=5):\n",
        "    if input_song_name not in music_df['Track Name'].values:\n",
        "        print(f\"'{input_song_name}' not found in the dataset. Please enter a valid song name.\")\n",
        "        return\n",
        "\n",
        "    # Get the index of the input song in the music DataFrame\n",
        "    input_song_index = music_df[music_df['Track Name'] == input_song_name].index[0]\n",
        "\n",
        "    # Calculate the similarity scores based on music features (cosine similarity)\n",
        "    similarity_scores = cosine_similarity([music_features_scaled[input_song_index]], music_features_scaled)\n",
        "\n",
        "    # Get the indices of the most similar songs\n",
        "    similar_song_indices = similarity_scores.argsort()[0][::-1][1:num_recommendations + 1]\n",
        "\n",
        "    # Get the names of the most similar songs based on content-based filtering\n",
        "    content_based_recommendations = music_df.iloc[similar_song_indices][['Track Name', 'Artists', 'Album Name', 'Release Date', 'Popularity']]\n",
        "\n",
        "    return content_based_recommendations"
      ],
      "metadata": {
        "id": "Oex1lYzPMMwH"
      },
      "execution_count": 18,
      "outputs": []
    },
    {
      "cell_type": "code",
      "source": [
        "# a function to get hybrid recommendations based on weighted popularity\n",
        "def hybrid_recommendations(input_song_name, num_recommendations=5, alpha=0.5):\n",
        "    if input_song_name not in music_df['Track Name'].values:\n",
        "        print(f\"'{input_song_name}' not found in the dataset. Please enter a valid song name.\")\n",
        "        return\n",
        "\n",
        "    # Get content-based recommendations\n",
        "    content_based_rec = content_based_recommendations(input_song_name, num_recommendations)\n",
        "\n",
        "    # Get the popularity score of the input song\n",
        "    popularity_score = music_df.loc[music_df['Track Name'] == input_song_name, 'Popularity'].values[0]\n",
        "\n",
        "    # Calculate the weighted popularity score\n",
        "    weighted_popularity_score = popularity_score * calculate_weighted_popularity(music_df.loc[music_df['Track Name'] == input_song_name, 'Release Date'].values[0])\n",
        "\n",
        "    # Combine content-based and popularity-based recommendations based on weighted popularity\n",
        "    hybrid_recommendations = content_based_rec\n",
        "    hybrid_recommendations = hybrid_recommendations.append({\n",
        "        'Track Name': input_song_name,\n",
        "        'Artists': music_df.loc[music_df['Track Name'] == input_song_name, 'Artists'].values[0],\n",
        "        'Album Name': music_df.loc[music_df['Track Name'] == input_song_name, 'Album Name'].values[0],\n",
        "        'Release Date': music_df.loc[music_df['Track Name'] == input_song_name, 'Release Date'].values[0],\n",
        "        'Popularity': weighted_popularity_score\n",
        "    }, ignore_index=True)\n",
        "\n",
        "    # Sort the hybrid recommendations based on weighted popularity score\n",
        "    hybrid_recommendations = hybrid_recommendations.sort_values(by='Popularity', ascending=False)\n",
        "\n",
        "    # Remove the input song from the recommendations\n",
        "    hybrid_recommendations = hybrid_recommendations[hybrid_recommendations['Track Name'] != input_song_name]\n",
        "\n",
        "\n",
        "    return hybrid_recommendations"
      ],
      "metadata": {
        "id": "D8-_Vc4pMOyp"
      },
      "execution_count": 19,
      "outputs": []
    },
    {
      "cell_type": "code",
      "source": [
        "#final code to test\n",
        "input_song_name = \"Boy's a liar Pt. 2\"\n",
        "recommendations = hybrid_recommendations(input_song_name, num_recommendations=5)\n",
        "print(f\"Hybrid recommended songs for '{input_song_name}':\")\n",
        "print(recommendations)"
      ],
      "metadata": {
        "colab": {
          "base_uri": "https://localhost:8080/"
        },
        "id": "Nmz198dDMZWS",
        "outputId": "226ff220-ae9d-4a77-f487-96568546d530"
      },
      "execution_count": 22,
      "outputs": [
        {
          "output_type": "stream",
          "name": "stdout",
          "text": [
            "Hybrid recommended songs for 'Boy's a liar Pt. 2':\n",
            "                              Track Name  \\\n",
            "4  Quevedo: Bzrp Music Sessions, Vol. 52   \n",
            "0                                  10:35   \n",
            "3                               La Jumpa   \n",
            "1      21 Reasons (feat. Ella Henderson)   \n",
            "2  OUT OUT (feat. Charli XCX & Saweetie)   \n",
            "\n",
            "                                       Artists  \\\n",
            "4                            Bizarrap, Quevedo   \n",
            "0                           Tiësto, Tate McRae   \n",
            "3                          Arcángel, Bad Bunny   \n",
            "1                  Nathan Dawe, Ella Henderson   \n",
            "2  Joel Corry, Jax Jones, Charli XCX, Saweetie   \n",
            "\n",
            "                              Album Name Release Date  Popularity  \n",
            "4  Quevedo: Bzrp Music Sessions, Vol. 52   2022-07-06        88.0  \n",
            "0                                  10:35   2022-11-03        80.0  \n",
            "3                               La Jumpa   2022-11-30        79.0  \n",
            "1      21 Reasons (feat. Ella Henderson)   2022-04-29        78.0  \n",
            "2  OUT OUT (feat. Charli XCX & Saweetie)   2021-08-13        77.0  \n"
          ]
        },
        {
          "output_type": "stream",
          "name": "stderr",
          "text": [
            "<ipython-input-19-3de633f34e34>:18: FutureWarning: The frame.append method is deprecated and will be removed from pandas in a future version. Use pandas.concat instead.\n",
            "  hybrid_recommendations = hybrid_recommendations.append({\n"
          ]
        }
      ]
    }
  ]
}